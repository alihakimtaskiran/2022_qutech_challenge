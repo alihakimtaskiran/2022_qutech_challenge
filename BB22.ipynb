{
 "cells": [
  {
   "cell_type": "code",
   "execution_count": 1,
   "id": "233a8d97",
   "metadata": {},
   "outputs": [],
   "source": [
    "from qiskit import ClassicalRegister, QuantumCircuit, QuantumRegister, execute, Aer\n",
    "from qiskit.visualization import plot_bloch_multivector, plot_state_qsphere, plot_histogram,array_to_latex\n",
    "import numpy as np\n",
    "from random import random \n",
    "qasm_s=Aer.get_backend(\"qasm_simulator\")\n",
    "pi=np.math.pi\n"
   ]
  },
  {
   "cell_type": "markdown",
   "id": "8d07696b",
   "metadata": {},
   "source": [
    "## In the Absence Of the Eavesdropper"
   ]
  },
  {
   "cell_type": "code",
   "execution_count": 2,
   "id": "77f06e8b",
   "metadata": {
    "scrolled": false
   },
   "outputs": [
    {
     "name": "stdout",
     "output_type": "stream",
     "text": [
      "Correlation: 0.6\n"
     ]
    },
    {
     "data": {
      "image/png": "[encoded data removed]",
      "text/plain": [
       "<Figure size 253.926x144.48 with 1 Axes>"
      ]
     },
     "execution_count": 2,
     "metadata": {},
     "output_type": "execute_result"
    }
   ],
   "source": [
    "accumulation=0\n",
    "for i in range(10):\n",
    "    qc=QuantumCircuit(1,1)\n",
    "    \n",
    "    _,__=1,random()\n",
    "    \n",
    "    if _>.5:\n",
    "        _=1\n",
    "    else:\n",
    "        _=0\n",
    "\n",
    "    if __>.5:\n",
    "        __=1\n",
    "    else:\n",
    "        __=0\n",
    "\n",
    "\n",
    "    if _:\n",
    "        qc.h(0)\n",
    "    else:\n",
    "        qc.h(0)\n",
    "\n",
    "    qc.barrier()\n",
    "    \n",
    "    #qc.measure(0,0)\n",
    "    \n",
    "\n",
    "    if __:\n",
    "        qc.h(0)\n",
    "        qc.x(0)\n",
    "\n",
    "    qc.measure(0,0)\n",
    "\n",
    "\n",
    "    counts=execute(qc,qasm_s,shots=1000).result().get_counts()\n",
    "\n",
    "    _c=tuple(counts)\n",
    "    if len(_c)==2:\n",
    "\n",
    "        sent=0\n",
    "    else:\n",
    "        if _c[0]==\"1\":\n",
    "            sent=1\n",
    "        else:\n",
    "            eve=True\n",
    "            \n",
    "            \n",
    "\n",
    "    if _==sent:\n",
    "        accumulation+=1\n",
    "    \n",
    "    cor=accumulation/10\n",
    "print(\"Correlation:\",cor)\n",
    "\n",
    "\n",
    "qc.draw(\"mpl\")"
   ]
  },
  {
   "cell_type": "markdown",
   "id": "fd630a7e",
   "metadata": {},
   "source": [
    "## In the Presence of the Eavesdropper"
   ]
  },
  {
   "cell_type": "code",
   "execution_count": 3,
   "id": "5ab9d7ba",
   "metadata": {},
   "outputs": [
    {
     "name": "stdout",
     "output_type": "stream",
     "text": [
      "Correlation: 0.0\n"
     ]
    },
    {
     "data": {
      "image/png": "[encoded data removed]",
      "text/plain": [
       "<Figure size 494.726x144.48 with 1 Axes>"
      ]
     },
     "execution_count": 3,
     "metadata": {},
     "output_type": "execute_result"
    }
   ],
   "source": [
    "accumulation=0\n",
    "for i in range(10):\n",
    "    qc=QuantumCircuit(1,1)\n",
    "    \n",
    "    _,__=1,random()\n",
    "    \n",
    "    if _>.5:\n",
    "        _=1\n",
    "    else:\n",
    "        _=0\n",
    "\n",
    "    if __>.5:\n",
    "        __=1\n",
    "    else:\n",
    "        __=0\n",
    "\n",
    "\n",
    "    if _:\n",
    "        qc.h(0)\n",
    "    else:\n",
    "        qc.h(0)\n",
    "\n",
    "    qc.barrier()\n",
    "    \n",
    "    qc.measure(0,0)\n",
    "    \n",
    "\n",
    "    if __:\n",
    "        qc.h(0)\n",
    "        qc.x(0)\n",
    "\n",
    "    qc.measure(0,0)\n",
    "    qc.barrier()\n",
    "\n",
    "    counts=execute(qc,qasm_s,shots=1000).result().get_counts()\n",
    "\n",
    "    _c=tuple(counts)\n",
    "    if len(_c)==2:\n",
    "\n",
    "        sent=0\n",
    "    else:\n",
    "        if _c[0]==\"1\":\n",
    "            sent=1\n",
    "        else:\n",
    "            eve=True\n",
    "            \n",
    "            \n",
    "\n",
    "    if _==sent:\n",
    "        accumulation+=1\n",
    "    \n",
    "    cor=accumulation/10\n",
    "print(\"Correlation:\",cor)\n",
    "qc.draw(\"mpl\")"
   ]
  }
 ],
 "metadata": {
  "kernelspec": {
   "display_name": "Python 3 (ipykernel)",
   "language": "python",
   "name": "python3"
  },
  "language_info": {
   "codemirror_mode": {
    "name": "ipython",
    "version": 3
   },
   "file_extension": ".py",
   "mimetype": "text/x-python",
   "name": "python",
   "nbconvert_exporter": "python",
   "pygments_lexer": "ipython3",
   "version": "3.9.7"
  }
 },
 "nbformat": 4,
 "nbformat_minor": 5
}
